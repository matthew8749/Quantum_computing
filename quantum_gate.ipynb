{
 "cells": [
  {
   "cell_type": "code",
   "execution_count": null,
   "metadata": {},
   "outputs": [],
   "source": [
    "import numpy as np\n",
    "# Importing standard Qiskit libraries from qiskit import QuantumCircuit, transpile from qiskit.tools.jupyter import from qiskit.visualization import from ibm_quantum_widgets import from qiskit import Aer, execute\n",
    "from qiskit import QuantumRegister, ClassicalRegister, QuantumCircuit\n",
    "# giskit-ibmg-provider has been deprecated.\n",
    "# Please see the Migration Guides in https://ibm.biz/provider_migration_guide for more detail.\n",
    "from qiskit_ibm_runtime import QiskitRuntimeService, Sampler, Estimator, Session, Options\n",
    "# Loading your IBM Quantum account (s)\n",
    "service = QiskitRuntimeService (channel=\"ibm_quantum\", token=\"e880fd2b374ba5920565333755d70d3dc9ab6b27a77f603b16b29b855db0841bd19e2511a9f224fc6880801046b0fbe0f11783dba057e1545e2cc97f6ccaad4c\")\n",
    "# Invoke a primitive inside a session. For more details see https://giskit.org/documentation/partners/qiskit_ibm_runtime/tutorials.htmi\n",
    "# with Session (backend=service.backend (\"ibmq_qasm_simulator\")):\n",
    "#result = Sampler ().run (circuits).result ()"
   ]
  },
  {
   "cell_type": "code",
   "execution_count": null,
   "metadata": {},
   "outputs": [],
   "source": [
    "from qiskit import QuantumCircuit\n",
    "from qiskit.visualization import plot_histogram\n",
    "from qiskit.tools.monitor import job_monitor\n",
    "from qiskit.circuit.random import random_circuit\n",
    "from qiskit.quantum_info import SparsePauliOp\n",
    "from qiskit.primitives import Estimator\n",
    "\n",
    "circuit = random_circuit(2, 2, seed=1).decompose(reps=1)\n",
    "observable = SparsePauliOp(\"IY\")\n",
    "\n",
    "estimator = Estimator()\n",
    "job = estimator.run(circuit, observable)\n",
    "result = job.result()\n",
    "\n",
    "display(circuit.draw(\"mpl\"))\n",
    "print(f\" > Observable: {observable.paulis}\")\n",
    "print(f\" > Expectation value: {result.values[0]}\")\n",
    "print(f\" > Metadata: {result.metadata[0]}\")\n",
    "\n"
   ]
  },
  {
   "cell_type": "code",
   "execution_count": null,
   "metadata": {},
   "outputs": [],
   "source": [
    "from qiskit.circuit.random import random_circuit\n",
    "from qiskit.quantum_info import SparsePauliOp\n",
    "from qiskit.primitives import Estimator\n",
    "\n",
    "circuits = (\n",
    "    random_circuit(2, 2, seed=0).decompose(reps=1),\n",
    "    random_circuit(2, 2, seed=1).decompose(reps=1),\n",
    ")\n",
    "observables = (\n",
    "    SparsePauliOp(\"XZ\"),\n",
    "    SparsePauliOp(\"IY\"),\n",
    ")\n",
    "\n",
    "estimator = Estimator()\n",
    "job_0 = estimator.run(circuits[0], observables[0])\n",
    "job_1 = estimator.run(circuits[1], observables[1])\n",
    "result_0 = job_0.result()\n",
    "result_1 = job_1.result()\n",
    "\n",
    "[display(cir.draw(\"mpl\")) for cir in circuits]\n",
    "print(f\" > Observables: {[obs.paulis for obs in observables]}\")\n",
    "print(f\" > Expectation values [0]: {result_0.values.tolist()[0]}\")\n",
    "print(f\" > Metadata [0]: {result_0.metadata[0]}\")\n",
    "print(f\" > Expectation values [1]: {result_1.values.tolist()[0]}\")\n",
    "print(f\" > Metadata [1]: {result_1.metadata[0]}\")\n",
    "\n"
   ]
  },
  {
   "cell_type": "code",
   "execution_count": null,
   "metadata": {},
   "outputs": [],
   "source": [
    "# Create a Quantum Circuit acting on the q register\n",
    "circuit = QuantumCircuit(3, 3)\n",
    "circuit.name = \"Qiskit Sample - 3-qubit GHZ circuit\"\n",
    "circuit.h(0)\n",
    "circuit.cx(0, 1)\n",
    "circuit.cx(1, 2)\n",
    "circuit.measure([0, 1, 2], [0, 1, 2])\n",
    "\n",
    "# Print out the circuit\n",
    "circuit.draw(output = 'mpl')"
   ]
  },
  {
   "cell_type": "code",
   "execution_count": null,
   "metadata": {},
   "outputs": [],
   "source": [
    "from qiskit import QuantumCircuit, execute, Aer\n",
    "\n",
    "# 創建包含2個量子位的量子電路\n",
    "qc = QuantumCircuit(2)\n",
    "\n",
    "# 在第一個量子位上應用Hadamard閘\n",
    "qc.h(0)\n",
    "\n",
    "# 使用第一個量子位作為控制位，第二個量子位作為目標位，應用CNOT閘\n",
    "qc.cx(0, 1)\n",
    "\n",
    "# 測量所有量子位\n",
    "qc.measure_all()\n",
    "\n",
    "# 模擬量子電路\n",
    "simulator = Aer.get_backend('qasm_simulator')\n",
    "job = execute(qc, simulator, shots=1024)\n",
    "result = job.result()\n",
    "\n",
    "# 打印測量結果\n",
    "print(result.get_counts(qc))\n"
   ]
  },
  {
   "cell_type": "code",
   "execution_count": null,
   "metadata": {},
   "outputs": [],
   "source": [
    "from qiskit.circuit.library import NLocal\n",
    "from qiskit.circuit import ParameterVector\n",
    "\n",
    "# rotation block:\n",
    "rot = QuantumCircuit(2)\n",
    "params = ParameterVector('r', 2)\n",
    "rot.ry(params[0], 0)\n",
    "rot.rz(params[1], 1)\n",
    "\n",
    "# entanglement block:\n",
    "ent = QuantumCircuit(4)\n",
    "params = ParameterVector('e', 3)\n",
    "ent.crx(params[0], 0, 1)\n",
    "ent.crx(params[1], 1, 2)\n",
    "ent.crx(params[2], 2, 3)\n",
    "\n",
    "qc_nlocal = NLocal(num_qubits=6, rotation_blocks=rot,\n",
    "                   entanglement_blocks=ent, entanglement='linear',\n",
    "                   skip_final_rotation_layer=True, insert_barriers=True)\n",
    "\n",
    "qc_nlocal.decompose().draw(\"mpl\")"
   ]
  },
  {
   "cell_type": "code",
   "execution_count": null,
   "metadata": {},
   "outputs": [],
   "source": [
    "from azure.quantum.qiskit import AzureQuantumProvider\n",
    "# Get IonQ quantum simulator target:\n",
    "simulator_backend = provider.get_backend(\"ionq.simulator\")"
   ]
  },
  {
   "cell_type": "code",
   "execution_count": null,
   "metadata": {},
   "outputs": [],
   "source": [
    "import qsharp.azure\n",
    "\n",
    "targets = qsharp.azure.connect(\n",
    "            resourceId = \"/subscriptions/cee8e465-b5c0-4218-a77b-b036ef6de05a/resourceGroups/AzureQuantum/providers/Microsoft.Quantum/Workspaces/quantum-learning-matthew\",\n",
    "            location = \"eastus\")"
   ]
  },
  {
   "cell_type": "code",
   "execution_count": null,
   "metadata": {},
   "outputs": [],
   "source": [
    "import qsharp\n",
    "\n",
    "print(\"This workspace's targets:\")\n",
    "for target in targets:\n",
    "    print(\"-\", target.id)"
   ]
  }
 ],
 "metadata": {
  "kernelspec": {
   "display_name": "quantum",
   "language": "python",
   "name": "python3"
  },
  "language_info": {
   "codemirror_mode": {
    "name": "ipython",
    "version": 3
   },
   "file_extension": ".py",
   "mimetype": "text/x-python",
   "name": "python",
   "nbconvert_exporter": "python",
   "pygments_lexer": "ipython3",
   "version": "3.10.12"
  },
  "orig_nbformat": 4
 },
 "nbformat": 4,
 "nbformat_minor": 2
}
